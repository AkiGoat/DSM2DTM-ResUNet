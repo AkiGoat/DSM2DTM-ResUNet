{
 "cells": [
  {
   "cell_type": "code",
   "execution_count": 9,
   "metadata": {},
   "outputs": [
    {
     "name": "stderr",
     "output_type": "stream",
     "text": [
      "/Users/hyde-mbp/mambaforge/envs/torG2/lib/python3.10/site-packages/numpy/core/fromnumeric.py:3464: RuntimeWarning: Mean of empty slice.\n",
      "  return _methods._mean(a, axis=axis, dtype=dtype,\n",
      "/Users/hyde-mbp/mambaforge/envs/torG2/lib/python3.10/site-packages/numpy/core/_methods.py:192: RuntimeWarning: invalid value encountered in scalar divide\n",
      "  ret = ret.dtype.type(ret / rcount)\n",
      "/Users/hyde-mbp/mambaforge/envs/torG2/lib/python3.10/site-packages/numpy/core/_methods.py:269: RuntimeWarning: Degrees of freedom <= 0 for slice\n",
      "  ret = _var(a, axis=axis, dtype=dtype, out=out, ddof=ddof,\n",
      "/Users/hyde-mbp/mambaforge/envs/torG2/lib/python3.10/site-packages/numpy/core/_methods.py:226: RuntimeWarning: invalid value encountered in divide\n",
      "  arrmean = um.true_divide(arrmean, div, out=arrmean,\n",
      "/Users/hyde-mbp/mambaforge/envs/torG2/lib/python3.10/site-packages/numpy/core/_methods.py:261: RuntimeWarning: invalid value encountered in scalar divide\n",
      "  ret = ret.dtype.type(ret / rcount)\n"
     ]
    },
    {
     "data": {
      "text/plain": [
       "nan"
      ]
     },
     "metadata": {},
     "output_type": "display_data"
    },
    {
     "data": {
      "text/plain": [
       "nan"
      ]
     },
     "metadata": {},
     "output_type": "display_data"
    }
   ],
   "source": [
    "from dataFunctions import *\n",
    "import numpy as np\n",
    "\n",
    "# load the arrays from the saved .npy files\n",
    "array1 = np.load(\"/Volumes/HydesT7/Grad Project/Data/U_Net/64_64_1_8/Pics_roughness.npy\")\n",
    "array2 = np.load(\"/Users/hyde-mbp/Projects/Grad/data/64_64_1_8_re/Pics.npy\")\n",
    "\n",
    "# compute the mean and standard deviation of the arrays using Numpy\n",
    "# mean1 = np.mean(array1[0])\n",
    "# mean2 = np.mean(array2[0])\n",
    "# std1 = np.std(array1[0])\n",
    "# std2 = np.std(array2[0])\n",
    "mean1, std1 = getNormalParams(array1[:,:,:0])\n",
    "mean2, std2 = getNormalParams(array2)\n",
    "\n",
    "# print the mean and standard deviation of each array\n",
    "# print(\"Array 1 mean:\", mean1)\n",
    "# print(\"Array 1 standard deviation:\", std1)\n",
    "# print(\"Array 2 mean:\", mean2)\n",
    "# print(\"Array 2 standard deviation:\", std2)\n",
    "display(mean1, std1)"
   ]
  },
  {
   "cell_type": "code",
   "execution_count": 11,
   "metadata": {},
   "outputs": [
    {
     "data": {
      "text/plain": [
       "(48480, 64, 64)"
      ]
     },
     "execution_count": 11,
     "metadata": {},
     "output_type": "execute_result"
    }
   ],
   "source": [
    "array1[:,:,:,0].shape"
   ]
  }
 ],
 "metadata": {
  "kernelspec": {
   "display_name": "torG2",
   "language": "python",
   "name": "python3"
  },
  "language_info": {
   "codemirror_mode": {
    "name": "ipython",
    "version": 3
   },
   "file_extension": ".py",
   "mimetype": "text/x-python",
   "name": "python",
   "nbconvert_exporter": "python",
   "pygments_lexer": "ipython3",
   "version": "3.10.9"
  },
  "orig_nbformat": 4
 },
 "nbformat": 4,
 "nbformat_minor": 2
}
