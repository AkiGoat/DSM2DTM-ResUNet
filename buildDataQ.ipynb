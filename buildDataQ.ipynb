{
 "cells": [
  {
   "cell_type": "code",
   "execution_count": 1,
   "metadata": {},
   "outputs": [],
   "source": [
    "import pandas as pd\n",
    "import numpy as np\n",
    "import random\n",
    "from tqdm import tqdm, trange\n",
    "import math\n",
    "# files\n",
    "import requests\n",
    "from io import BytesIO\n",
    "from zipfile import ZipFile\n",
    "import os\n",
    "import shutil\n",
    "from pathlib import Path\n",
    "# from scipy import interpolate\n",
    "import matplotlib.pyplot as plt\n",
    "# GIS\n",
    "from osgeo import gdal\n",
    "import rasterio\n",
    "from affine import Affine\n",
    "import richdem as rd\n",
    "from rasterio.fill import fillnodata\n",
    "# torch and dataset\n",
    "import torch\n",
    "import torchvision\n",
    "from torch.utils.data import Dataset\n",
    "from sklearn.model_selection import train_test_split\n",
    "\n",
    "# functions\n",
    "\n",
    "from dataFunctions import *\n"
   ]
  },
  {
   "cell_type": "code",
   "execution_count": 2,
   "metadata": {},
   "outputs": [],
   "source": [
    "path_ANH4 = '/Volumes/HydesT7/Grad Project/Data/AHN4_all/'\n",
    "list_patch = []\n",
    "with open(path_ANH4+'train_valid_patchs.txt') as fp:\n",
    "    # list_patch.append(patch)\n",
    "    list_patch = [line.rstrip('\\n') for line in fp]"
   ]
  },
  {
   "cell_type": "code",
   "execution_count": 3,
   "metadata": {},
   "outputs": [],
   "source": [
    "path_pre = '/Volumes/HydesT7/Grad Project/Data/AHN4_preprocessed_1_8/'\n",
    "ls_dsm30 = []\n",
    "ls_dtm30 = []\n",
    "ls_dsm30_fill = []\n",
    "ls_dsm30_Roughness = []\n",
    "ls_dsm30_slope = []\n",
    "\n",
    "for name in list_patch:\n",
    "    ls_dsm30.append('R30_'+name+'.TIF')\n",
    "    ls_dtm30.append('M30_'+name+'.TIF')\n",
    "    ls_dsm30_fill.append('R30_'+name+'_filled.TIF')\n",
    "    ls_dsm30_Roughness.append('R30_'+name+'_Roughness.TIF')\n",
    "    ls_dsm30_slope.append('R30_'+name+'_slope.TIF')"
   ]
  },
  {
   "cell_type": "code",
   "execution_count": 5,
   "metadata": {},
   "outputs": [
    {
     "data": {
      "text/plain": [
       "(208, 167)"
      ]
     },
     "execution_count": 5,
     "metadata": {},
     "output_type": "execute_result"
    }
   ],
   "source": [
    "rd.LoadGDAL(path_pre+ls_dsm30[0]).shape"
   ]
  },
  {
   "cell_type": "code",
   "execution_count": 14,
   "metadata": {},
   "outputs": [
    {
     "name": "stdout",
     "output_type": "stream",
     "text": [
      "Slicing...\n"
     ]
    },
    {
     "name": "stderr",
     "output_type": "stream",
     "text": [
      "100%|██████████| 455/455 [00:06<00:00, 68.75it/s]\n"
     ]
    },
    {
     "name": "stdout",
     "output_type": "stream",
     "text": [
      "Generating ground truth...\n"
     ]
    },
    {
     "name": "stderr",
     "output_type": "stream",
     "text": [
      "100%|██████████| 43680/43680 [00:36<00:00, 1209.06it/s]\n"
     ]
    }
   ],
   "source": [
    "cut_length = 64\n",
    "cut_width = 64\n",
    "\n",
    "dsm_slices = []\n",
    "dtm_slices = []\n",
    "ground_truth_slices = []\n",
    "dsm_fill_slices = []\n",
    "dsm_fill_arrs = []\n",
    "roughness_slices = []\n",
    "roughness_arrs = []\n",
    "slope_slices = []\n",
    "slope_arrs = []\n",
    "\n",
    "print(\"Slicing...\")\n",
    "for i in trange(len(list_patch)):\n",
    "    dsm30 = readTIFF(path_pre, ls_dsm30[i], masked=True)\n",
    "    dtm30 = readTIFF(path_pre, ls_dtm30[i], masked=True)\n",
    "    dsm30_fill = readTIFF(path_pre, ls_dsm30_fill[i])\n",
    "    dsm30_Roughness = readTIFF(path_pre, ls_dsm30_Roughness[i])\n",
    "    dsm30_slope = readTIFF(path_pre, ls_dsm30_slope[i])\n",
    "\n",
    "    dsm_fill_arrs.append(dsm30_fill)\n",
    "    roughness_arrs.append(dsm30_Roughness)\n",
    "    slope_arrs.append(dsm30_slope)\n",
    "\n",
    "    dsm_slices += sliceRisPic(dsm30, cut_width, cut_length)\n",
    "    dtm_slices += sliceRisPic(dtm30, cut_width, cut_length)\n",
    "    dsm_fill_slices += sliceRisPic(dsm30_fill, cut_width, cut_length)\n",
    "    roughness_slices += sliceRisPic(dsm30_Roughness, cut_width, cut_length)\n",
    "    slope_slices += sliceRisPic(dsm30_slope, cut_width, cut_length)\n",
    "\n",
    "mean_dsm, std_dsm = getNormalParams(dsm_fill_arrs)\n",
    "mean_roughness, std_roughness = getNormalParams(roughness_arrs)\n",
    "mean_slope, std_slope = getNormalParams(slope_arrs)\n",
    "\n",
    "dsm_slices += augmentateData(dsm_slices)\n",
    "dtm_slices += augmentateData(dtm_slices)\n",
    "dsm_fill_slices += augmentateData(dsm_fill_slices)\n",
    "roughness_slices += augmentateData(roughness_slices)\n",
    "slope_slices += augmentateData(slope_slices)\n",
    "\n",
    "print(\"Generating ground truth...\")\n",
    "\n",
    "for nn in trange(len(dsm_slices)):\n",
    "    ground_truth_slices.append(\n",
    "        generateGroundTruth(dsm_slices[nn], dtm_slices[nn], 1e-10))"
   ]
  },
  {
   "cell_type": "code",
   "execution_count": 15,
   "metadata": {},
   "outputs": [
    {
     "data": {
      "text/plain": [
       "array([9.90327775, 2.48690886, 1.35894729])"
      ]
     },
     "metadata": {},
     "output_type": "display_data"
    },
    {
     "data": {
      "text/plain": [
       "array([19.5961904 ,  2.92635182,  1.85182111])"
      ]
     },
     "metadata": {},
     "output_type": "display_data"
    }
   ],
   "source": [
    "para_means = np.asarray([mean_dsm, mean_roughness, mean_slope])\n",
    "para_stds = np.asarray([std_dsm, std_roughness, std_slope])\n",
    "\n",
    "display(para_means, para_stds)"
   ]
  },
  {
   "cell_type": "code",
   "execution_count": 16,
   "metadata": {},
   "outputs": [
    {
     "data": {
      "text/plain": [
       "(43680, 64, 64, 3)"
      ]
     },
     "metadata": {},
     "output_type": "display_data"
    },
    {
     "data": {
      "text/plain": [
       "(43680, 2, 64, 64)"
      ]
     },
     "metadata": {},
     "output_type": "display_data"
    }
   ],
   "source": [
    "Pics = stackPics(dsm_fill_slices, roughness_slices, slope_slices)\n",
    "Masks = np.stack(ground_truth_slices)\n",
    "Masks = Masks.astype(np.float32)\n",
    "display(Pics.shape, Masks.shape)"
   ]
  },
  {
   "cell_type": "code",
   "execution_count": 17,
   "metadata": {},
   "outputs": [],
   "source": [
    "out_file_path = '/Volumes/HydesT7/Grad Project/Data/U_Net/64_64_1_8_np_re/'\n",
    "Path(out_file_path).mkdir(parents=True, exist_ok=True)\n",
    "np.save(out_file_path+'Pics', Pics)\n",
    "np.save(out_file_path+'Masks_1e-10', Masks)\n",
    "np.save(out_file_path+'para_means', para_means)\n",
    "np.save(out_file_path+'para_stds', para_stds)"
   ]
  }
 ],
 "metadata": {
  "kernelspec": {
   "display_name": "torG2",
   "language": "python",
   "name": "python3"
  },
  "language_info": {
   "codemirror_mode": {
    "name": "ipython",
    "version": 3
   },
   "file_extension": ".py",
   "mimetype": "text/x-python",
   "name": "python",
   "nbconvert_exporter": "python",
   "pygments_lexer": "ipython3",
   "version": "3.10.9"
  },
  "orig_nbformat": 4
 },
 "nbformat": 4,
 "nbformat_minor": 2
}
